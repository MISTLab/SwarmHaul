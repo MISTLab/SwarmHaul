{
 "cells": [
  {
   "cell_type": "code",
   "execution_count": 1,
   "metadata": {},
   "outputs": [],
   "source": [
    "# Import the necessary Python libraries\n",
    "import pandas as pd\n",
    "import numpy as np\n",
    "import scipy as sp\n",
    "import matplotlib.pyplot as plt\n",
    "from matplotlib.lines import Line2D\n",
    "from math import log10\n",
    "import math\n",
    "from scipy.spatial.distance import pdist, squareform\n",
    "from matplotlib.patches import Patch\n",
    "import matplotlib.lines as mlines\n",
    "from matplotlib import colors as mcolors\n",
    "from matplotlib.patches import Rectangle\n",
    "from matplotlib.collections import PatchCollection\n",
    "from matplotlib.offsetbox import OffsetImage, AnnotationBbox\n",
    "from matplotlib.cbook import get_sample_data\n",
    "import os.path\n",
    "import csv\n",
    "plt.rcParams['pdf.fonttype'] = 42\n",
    "plt.rcParams['ps.fonttype'] = 42"
   ]
  },
  {
   "cell_type": "code",
   "execution_count": 2,
   "metadata": {},
   "outputs": [],
   "source": [
    "DATA_DIR = \"/collobrative_transport/data\""
   ]
  },
  {
   "cell_type": "code",
   "execution_count": 4,
   "metadata": {},
   "outputs": [],
   "source": [
    "ROBOTS = [25,50,100]\n",
    "PATH_TAKEN = ['straight', 'zigzac', 'straight_rot']\n",
    "INTER_CAGE_DIST =0.45 # 0.65, 0.85\n",
    "MASS = 5\n",
    "OBJECT_SHAPE = [0,1,2]\n",
    "STATE=[0,1] # 0-> caging 1-> pushing\n",
    "REP=30\n",
    "TARGET_x=[-10,-10]\n",
    "TARGET_y=[-0,-2]\n",
    "TARGET_TOLERENCE = 0.1"
   ]
  },
  {
   "cell_type": "code",
   "execution_count": 5,
   "metadata": {},
   "outputs": [
    {
     "name": "stdout",
     "output_type": "stream",
     "text": [
      "EXPERIMENTAL DATA FILES STATS\n",
      "EXP: ROBOT 25 PATH straight_rot REP 21 does not exist\n",
      "/collobrative_transport/data/pos_25_straight_rot_0.45_5_0_21.csv\n",
      "EXP: ROBOT 100 PATH straight REP 5 does not exist\n",
      "/collobrative_transport/data/pos_100_straight_0.45_5_2_5.csv\n",
      "EXP: ROBOT 100 PATH zigzac REP 5 does not exist\n",
      "/collobrative_transport/data/pos_100_zigzac_0.45_5_2_5.csv\n",
      "EXP: ROBOT 100 PATH straight_rot REP 5 does not exist\n",
      "/collobrative_transport/data/pos_100_straight_rot_0.45_5_2_5.csv\n",
      "EXP: ROBOT 100 PATH straight_rot REP 13 does not exist\n",
      "/collobrative_transport/data/pos_100_straight_rot_0.45_5_2_13.csv\n",
      "EXP: ROBOT 100 PATH straight_rot REP 29 does not exist\n",
      "/collobrative_transport/data/pos_100_straight_rot_0.45_5_2_29.csv\n"
     ]
    }
   ],
   "source": [
    "print(\"EXPERIMENTAL DATA FILES STATS\")\n",
    "for robot in ROBOTS:\n",
    "    for path in PATH_TAKEN:\n",
    "        \n",
    "        object_shape = 0\n",
    "        if(robot == 50):\n",
    "            object_shape = 1\n",
    "        elif(robot == 100):\n",
    "            object_shape = 2\n",
    "        for movement in [0]:\n",
    "            for rep in range(1,REP+1):\n",
    "                if (not os.path.exists(DATA_DIR+\"/pos_\"+str(robot)+'_'+path+'_'\n",
    "                                      +str(INTER_CAGE_DIST)+'_'+str(MASS)+'_'\n",
    "                                      +str(object_shape)+'_'+str(rep)\n",
    "                                      +'.csv')) or (not os.path.exists(DATA_DIR\n",
    "                                      +\"/perf_\"+str(robot)+'_'+path+'_'+str(INTER_CAGE_DIST)+'_'\n",
    "                                      +str(MASS)+'_'+str(object_shape)+'_'+str(rep)\n",
    "                                      +'.csv')) or (not os.path.exists(DATA_DIR\n",
    "                                      +\"/effec_\"+str(robot)+'_'+path+'_'+str(INTER_CAGE_DIST)+'_'\n",
    "                                      +str(MASS)+'_'+str(object_shape)+'_'+str(rep)+'.csv')):\n",
    "                    print(\"EXP: ROBOT {} PATH {} REP {} does not exist\".format(robot,path,rep))\n",
    "                    print(DATA_DIR+\"/pos_\"+str(robot)+'_'+path+'_'+str(INTER_CAGE_DIST)+'_'+str(MASS)+'_'+str(object_shape)+'_'+str(rep)+'.csv')\n",
    "                    "
   ]
  },
  {
   "cell_type": "code",
   "execution_count": 6,
   "metadata": {},
   "outputs": [],
   "source": [
    "def get_names_for_posfile(robot):\n",
    "    name = ['time']\n",
    "    for i in range(0,robot):\n",
    "        name.append('id:'+str(i))\n",
    "        name.append('x_'+str(i))\n",
    "        name.append('y_'+str(i))\n",
    "        name.append('z_'+str(i))\n",
    "    name.append('obj_x')\n",
    "    name.append('obj_y')\n",
    "    name.append('obj_yaw')\n",
    "    return name\n",
    "def get_names_for_effecfile(robot):\n",
    "    name = ['time']\n",
    "    for i in range(0,robot):\n",
    "        name.append('id:'+str(i))\n",
    "        name.append('ep_'+str(i))\n",
    "        name.append('er_'+str(i))\n",
    "        name.append('task_'+str(i))\n",
    "        name.append('c_size_'+str(i))\n",
    "        name.append('p_size_'+str(i))\n",
    "        name.append('r_size_'+str(i))\n",
    "        name.append('t_size_'+str(i))\n",
    "    return name"
   ]
  },
  {
   "cell_type": "code",
   "execution_count": 7,
   "metadata": {},
   "outputs": [],
   "source": [
    "# Reads the data of a single experiment\n",
    "def read_pos_datafile(name, robot):\n",
    "    fname = DATA_DIR + \"/pos_\" + name\n",
    "    print('Reading: '+fname+'.csv')\n",
    "    names = get_names_for_posfile(robot)\n",
    "    if not os.path.exists(fname+'.csv'):\n",
    "        print(\"File does not exsist \"+fname+'.csv')\n",
    "        return pd.DataFrame()\n",
    "    return pd.read_csv(fname+'.csv', names=names, header=None, skiprows=1, engine='python')\n",
    "# Reads the data of a single experiment\n",
    "def read_effec_datafile(name, robot):\n",
    "    fname = DATA_DIR + \"/effec_\" + name\n",
    "    print('Reading: '+fname+'.csv')\n",
    "    names = get_names_for_effecfile(robot)\n",
    "    if not os.path.exists(fname+'.csv'):\n",
    "        print(\"File does not exsist \"+fname+'.csv')\n",
    "        return pd.DataFrame()\n",
    "    return pd.read_csv(fname+'.csv', names=names, header=None, skiprows=1, engine='python')\n",
    "def read_perf_datafile(name, robot):\n",
    "    fname = DATA_DIR + \"/perf_\" + name\n",
    "    print('Reading: '+fname+'.csv')\n",
    "    try:\n",
    "        data = pd.read_csv(fname+'.csv', header=None, skiprows=0, engine='python')\n",
    "        return data\n",
    "    except:\n",
    "        print('Empty csv file!')\n",
    "        return pd.DataFrame()\n",
    "    "
   ]
  },
  {
   "cell_type": "code",
   "execution_count": 8,
   "metadata": {},
   "outputs": [],
   "source": [
    "def get_task_time(c_df, robot):\n",
    "    task_times =[]\n",
    "    if(not c_df.empty):\n",
    "        for d in range(0,robot):\n",
    "            task_index=1\n",
    "            robot_time=[]\n",
    "            for i in range(0,11):\n",
    "                TTime = c_df[c_df['task_'+str(d)] == task_index].index.tolist()\n",
    "                if(len(TTime) > 0):\n",
    "                    robot_time.append(TTime[0])\n",
    "                task_index = task_index +2\n",
    "            task_times.append(robot_time)\n",
    "    return task_times"
   ]
  },
  {
   "cell_type": "code",
   "execution_count": null,
   "metadata": {},
   "outputs": [],
   "source": [
    "def get_rotator_task_time(c_df, robot):\n",
    "    task_times =[]\n",
    "    if(not c_df.empty):\n",
    "        for d in range(0,robot):\n",
    "            task_index=0\n",
    "            robot_time=[]\n",
    "            for i in range(0,11):\n",
    "                TTime = c_df[c_df['task_'+str(d)] == task_index].index.tolist()\n",
    "                if(len(TTime) > 0):\n",
    "                    robot_time.append(TTime[0])\n",
    "                task_index = task_index +2\n",
    "            task_times.append(robot_time)\n",
    "    return task_times"
   ]
  },
  {
   "cell_type": "code",
   "execution_count": 9,
   "metadata": {},
   "outputs": [
    {
     "name": "stdout",
     "output_type": "stream",
     "text": [
      "Reading: /collobrative_transport/data/effec_25_straight_0.45_5_0_1.csv\n"
     ]
    },
    {
     "data": {
      "text/plain": [
       "[[2858, 2969, 3082, 3198, 3313, 3422, 3537, 3652, 3767, 3885],\n",
       " [2858, 2969, 3082, 3198, 3313, 3422, 3537, 3652, 3767, 3885],\n",
       " [2858, 2969, 3082, 3198, 3313, 3422, 3537, 3652, 3767, 3885],\n",
       " [],\n",
       " [2858, 2969, 3082, 3198, 3313, 3422, 3537, 3652, 3767, 3885],\n",
       " [2858, 2969, 3082, 3198, 3313, 3422, 3537, 3652, 3767, 3885],\n",
       " [],\n",
       " [2858, 2969, 3082, 3198, 3313, 3422, 3537, 3652, 3767, 3885],\n",
       " [],\n",
       " [2858, 2969, 3082, 3198, 3313, 3422, 3537, 3652, 3767, 3885],\n",
       " [2858, 2969, 3082, 3198, 3313, 3422, 3537, 3652, 3767, 3885],\n",
       " [],\n",
       " [2858, 2969, 3082, 3198, 3313, 3422, 3537, 3652, 3767, 3885],\n",
       " [],\n",
       " [2858, 2969, 3082, 3198, 3313, 3422, 3537, 3652, 3767, 3885],\n",
       " [2858, 2969, 3082, 3198, 3313, 3422, 3537, 3652, 3767, 3885],\n",
       " [2858, 2969, 3082, 3198, 3313, 3422, 3537, 3652, 3767, 3885],\n",
       " [2858, 2969, 3082, 3198, 3313, 3422, 3537, 3652, 3767, 3885],\n",
       " [2858, 2969, 3082, 3198, 3313, 3422, 3537, 3652, 3767, 3885],\n",
       " [2858, 2969, 3082, 3198, 3313, 3422, 3537, 3652, 3767, 3885],\n",
       " [],\n",
       " [],\n",
       " [2858, 2969, 3082, 3198, 3313, 3422, 3537, 3652, 3767, 3885],\n",
       " [2858, 2969, 3082, 3198, 3313, 3422, 3537, 3652, 3767, 3885],\n",
       " [2858, 2969, 3082, 3198, 3313, 3422, 3537, 3652, 3767, 3885]]"
      ]
     },
     "execution_count": 9,
     "metadata": {},
     "output_type": "execute_result"
    }
   ],
   "source": [
    "get_task_time(read_effec_datafile('25_straight_0.45_5_0_1',25),25)"
   ]
  },
  {
   "cell_type": "code",
   "execution_count": 18,
   "metadata": {},
   "outputs": [],
   "source": [
    "def compute_effec_push_rotater(name, robot):\n",
    "    c_df = read_effec_datafile(name,robot)\n",
    "    task_time = get_task_time(c_df,robot)\n",
    "    num_pushers =[]\n",
    "    num_rotaters =[]\n",
    "    if(len(task_time) > 0 and (not c_df.empty)):\n",
    "        for i in range(0,10):\n",
    "            pusher = 0 \n",
    "            rotator = 0\n",
    "            for d in range(0,robot):\n",
    "                if(len(task_time[d]) > 0 and len(task_time[d]) > i):\n",
    "                    c_time = task_time[d][i]\n",
    "                    if(c_df['ep_'+str(d)][c_time-10] == 1):\n",
    "                        pusher = pusher+1\n",
    "                    if(c_df['ep_'+str(d)][c_time+20] == 1):\n",
    "                        rotator = rotator+1\n",
    "            num_pushers.append(pusher)\n",
    "            num_rotaters.append(rotator)\n",
    "    return [num_pushers,num_rotaters]"
   ]
  },
  {
   "cell_type": "code",
   "execution_count": 19,
   "metadata": {},
   "outputs": [
    {
     "name": "stdout",
     "output_type": "stream",
     "text": [
      "Reading: /collobrative_transport/data/effec_25_straight_rot_0.45_5_0_1.csv\n"
     ]
    },
    {
     "data": {
      "text/plain": [
       "[[9, 8, 11, 9, 11, 9, 9, 9, 10, 11], [0, 0, 0, 0, 0, 0, 0, 0, 0, 0]]"
      ]
     },
     "execution_count": 19,
     "metadata": {},
     "output_type": "execute_result"
    }
   ],
   "source": [
    "compute_effec_push_rotater('25_straight_rot_0.45_5_0_1',25)"
   ]
  },
  {
   "cell_type": "code",
   "execution_count": null,
   "metadata": {},
   "outputs": [],
   "source": []
  }
 ],
 "metadata": {
  "kernelspec": {
   "display_name": "Python 2",
   "language": "python",
   "name": "python2"
  },
  "language_info": {
   "codemirror_mode": {
    "name": "ipython",
    "version": 2
   },
   "file_extension": ".py",
   "mimetype": "text/x-python",
   "name": "python",
   "nbconvert_exporter": "python",
   "pygments_lexer": "ipython2",
   "version": "2.7.12"
  }
 },
 "nbformat": 4,
 "nbformat_minor": 2
}
