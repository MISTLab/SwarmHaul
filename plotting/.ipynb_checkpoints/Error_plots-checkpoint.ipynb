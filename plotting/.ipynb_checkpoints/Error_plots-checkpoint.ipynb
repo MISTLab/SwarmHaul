{
 "cells": [
  {
   "cell_type": "code",
   "execution_count": 1,
   "metadata": {},
   "outputs": [],
   "source": [
    "# Import the necessary Python libraries\n",
    "import pandas as pd\n",
    "import numpy as np\n",
    "import scipy as sp\n",
    "import matplotlib.pyplot as plt\n",
    "from matplotlib.lines import Line2D\n",
    "from math import log10\n",
    "import math\n",
    "from scipy.spatial.distance import pdist, squareform\n",
    "from matplotlib.patches import Patch\n",
    "import matplotlib.lines as mlines\n",
    "from matplotlib import colors as mcolors\n",
    "from matplotlib.patches import Rectangle\n",
    "from matplotlib.collections import PatchCollection\n",
    "from matplotlib.offsetbox import OffsetImage, AnnotationBbox\n",
    "from matplotlib.cbook import get_sample_data\n",
    "import os.path\n",
    "import csv\n",
    "plt.rcParams['pdf.fonttype'] = 42\n",
    "plt.rcParams['ps.fonttype'] = 42"
   ]
  },
  {
   "cell_type": "code",
   "execution_count": 2,
   "metadata": {},
   "outputs": [],
   "source": [
    "DATA_DIR = \"/collobrative_transport/data\""
   ]
  },
  {
   "cell_type": "code",
   "execution_count": 3,
   "metadata": {},
   "outputs": [],
   "source": [
    "ROBOTS = [25,50,100]\n",
    "PATH_TAKEN = ['straight', 'zigzac', 'straight_rot']\n",
    "INTER_CAGE_DIST =0.45 # 0.65, 0.85\n",
    "MASS = 5\n",
    "OBJECT_SHAPE = [0,1,2]\n",
    "STATE=[0,1] # 0-> caging 1-> pushing\n",
    "REP=30\n",
    "TARGET_x=[-10,-10]\n",
    "TARGET_y=[-0,-2]\n",
    "TARGET_TOLERENCE = 0.1"
   ]
  },
  {
   "cell_type": "code",
   "execution_count": 4,
   "metadata": {},
   "outputs": [
    {
     "name": "stdout",
     "output_type": "stream",
     "text": [
      "EXPERIMENTAL DATA FILES STATS\n",
      "EXP: ROBOT 25 PATH straight_rot REP 21 does not exist\n",
      "/collobrative_transport/data/pos_25_straight_rot_0.45_5_0_21.csv\n",
      "EXP: ROBOT 100 PATH straight REP 5 does not exist\n",
      "/collobrative_transport/data/pos_100_straight_0.45_5_2_5.csv\n",
      "EXP: ROBOT 100 PATH zigzac REP 5 does not exist\n",
      "/collobrative_transport/data/pos_100_zigzac_0.45_5_2_5.csv\n",
      "EXP: ROBOT 100 PATH straight_rot REP 5 does not exist\n",
      "/collobrative_transport/data/pos_100_straight_rot_0.45_5_2_5.csv\n",
      "EXP: ROBOT 100 PATH straight_rot REP 13 does not exist\n",
      "/collobrative_transport/data/pos_100_straight_rot_0.45_5_2_13.csv\n",
      "EXP: ROBOT 100 PATH straight_rot REP 29 does not exist\n",
      "/collobrative_transport/data/pos_100_straight_rot_0.45_5_2_29.csv\n"
     ]
    }
   ],
   "source": [
    "print(\"EXPERIMENTAL DATA FILES STATS\")\n",
    "for robot in ROBOTS:\n",
    "    for path in PATH_TAKEN:\n",
    "        \n",
    "        object_shape = 0\n",
    "        if(robot == 50):\n",
    "            object_shape = 1\n",
    "        elif(robot == 100):\n",
    "            object_shape = 2\n",
    "        for movement in [0]:\n",
    "            for rep in range(1,REP+1):\n",
    "                if (not os.path.exists(DATA_DIR+\"/pos_\"+str(robot)+'_'+path+'_'\n",
    "                                      +str(INTER_CAGE_DIST)+'_'+str(MASS)+'_'\n",
    "                                      +str(object_shape)+'_'+str(rep)\n",
    "                                      +'.csv')) or (not os.path.exists(DATA_DIR\n",
    "                                      +\"/perf_\"+str(robot)+'_'+path+'_'+str(INTER_CAGE_DIST)+'_'\n",
    "                                      +str(MASS)+'_'+str(object_shape)+'_'+str(rep)\n",
    "                                      +'.csv')) or (not os.path.exists(DATA_DIR\n",
    "                                      +\"/effec_\"+str(robot)+'_'+path+'_'+str(INTER_CAGE_DIST)+'_'\n",
    "                                      +str(MASS)+'_'+str(object_shape)+'_'+str(rep)+'.csv')):\n",
    "                    print(\"EXP: ROBOT {} PATH {} REP {} does not exist\".format(robot,path,rep))\n",
    "                    print(DATA_DIR+\"/pos_\"+str(robot)+'_'+path+'_'+str(INTER_CAGE_DIST)+'_'+str(MASS)+'_'+str(object_shape)+'_'+str(rep)+'.csv')\n",
    "                    "
   ]
  },
  {
   "cell_type": "code",
   "execution_count": 5,
   "metadata": {},
   "outputs": [],
   "source": [
    "def get_names_for_posfile(robot):\n",
    "    name = ['time']\n",
    "    for i in range(0,robot):\n",
    "        name.append('id:'+str(i))\n",
    "        name.append('x_'+str(i))\n",
    "        name.append('y_'+str(i))\n",
    "        name.append('z_'+str(i))\n",
    "    name.append('obj_x')\n",
    "    name.append('obj_y')\n",
    "    name.append('obj_yaw')\n",
    "    return name\n",
    "def get_names_for_effecfile(robot):\n",
    "    name = ['time']\n",
    "    for i in range(0,robot):\n",
    "        name.append('id:'+str(i))\n",
    "        name.append('ep_'+str(i))\n",
    "        name.append('er_'+str(i))\n",
    "        name.append('task_'+str(i))\n",
    "        name.append('c_size_'+str(i))\n",
    "        name.append('p_size_'+str(i))\n",
    "        name.append('r_size_'+str(i))\n",
    "        name.append('t_size_'+str(i))\n",
    "    return name"
   ]
  },
  {
   "cell_type": "code",
   "execution_count": 23,
   "metadata": {},
   "outputs": [],
   "source": [
    "# Reads the data of a single experiment\n",
    "def read_pos_datafile(name, robot):\n",
    "    fname = DATA_DIR + \"/pos_\" + name\n",
    "    print('Reading: '+fname+'.csv')\n",
    "    names = get_names_for_posfile(robot)\n",
    "    if not os.path.exists(fname+'.csv'):\n",
    "        print(\"File does not exsist \"+fname+'.csv')\n",
    "        return pd.DataFrame()\n",
    "    return pd.read_csv(fname+'.csv', names=names, header=None, skiprows=1, engine='python')\n",
    "# Reads the data of a single experiment\n",
    "def read_effec_datafile(name, robot):\n",
    "    fname = DATA_DIR + \"/effec_\" + name\n",
    "    print('Reading: '+fname+'.csv')\n",
    "    names = get_names_for_effecfile(robot)\n",
    "    if not os.path.exists(fname+'.csv'):\n",
    "        print(\"File does not exsist \"+fname+'.csv')\n",
    "        return pd.DataFrame()\n",
    "    return pd.read_csv(fname+'.csv', names=names, header=None, skiprows=1, engine='python')\n",
    "def read_perf_datafile(name, robot):\n",
    "    fname = DATA_DIR + \"/perf_\" + name\n",
    "    print('Reading: '+fname+'.csv')\n",
    "    try:\n",
    "        data = pd.read_csv(fname+'.csv', header=None, skiprows=0, engine='python')\n",
    "        return data\n",
    "    except:\n",
    "        print('Empty csv file!')\n",
    "        return pd.DataFrame()\n",
    "    "
   ]
  },
  {
   "cell_type": "code",
   "execution_count": 18,
   "metadata": {},
   "outputs": [],
   "source": [
    "def format_robot_center_data(c_df, robot):\n",
    "    index=1\n",
    "    center_data=[]\n",
    "    for i in range(0,robot):\n",
    "        # robot id\n",
    "        index = index + 1\n",
    "        center_size = c_df[index][0]\n",
    "        # size \n",
    "        index = index + 1\n",
    "        j = 0\n",
    "        robot_centers = []\n",
    "        while(j < center_size):\n",
    "            robot_centers.append([c_df[index][0],c_df[index+1][0]])\n",
    "            index = index + 2\n",
    "            j = j + 1\n",
    "        center_data.append(robot_centers)\n",
    "    return center_data                 "
   ]
  },
  {
   "cell_type": "code",
   "execution_count": 49,
   "metadata": {},
   "outputs": [],
   "source": [
    "def get_task_time(c_df, robot):\n",
    "    task_times =[]\n",
    "    for d in range(0,robot):\n",
    "        task_index=1\n",
    "        robot_time=[]\n",
    "        for i in range(0,11):\n",
    "            TTime = c_df[c_df['task_'+str(d)] == task_index].index.tolist()\n",
    "            if(len(TTime) > 0):\n",
    "                robot_time.append(TTime[0])\n",
    "            task_index = task_index +2\n",
    "        task_times.append(robot_time)\n",
    "    return task_times"
   ]
  },
  {
   "cell_type": "code",
   "execution_count": 55,
   "metadata": {},
   "outputs": [],
   "source": [
    "def compute_dist(x1,y1,x2,y2):\n",
    "    return math.hypot((x2-x1),(y2-y1))"
   ]
  },
  {
   "cell_type": "code",
   "execution_count": 62,
   "metadata": {},
   "outputs": [],
   "source": [
    "def compute_center_error(name, robot):\n",
    "    robot_centres = format_robot_center_data(read_perf_datafile(name,robot),robot)\n",
    "    task_time = get_task_time(read_effec_datafile(name,robot),robot)\n",
    "    pos_df = read_pos_datafile(name,robot)\n",
    "    errors =[]\n",
    "    for i in range(0,10):\n",
    "        error=[]\n",
    "        for d in range(0,robot):\n",
    "            if(len(task_time[d]) > 0 and len(task_time[d]) >= i):\n",
    "                c_time = task_time[d][i]\n",
    "                error.append(compute_dist(pos_df['obj_x'][c_time],pos_df['obj_y'][c_time],robot_centres[d][i][0],robot_centres[d][i][1]))\n",
    "        errors.append(sum(error)/len(error))\n",
    "    return errors"
   ]
  },
  {
   "cell_type": "code",
   "execution_count": 63,
   "metadata": {},
   "outputs": [
    {
     "name": "stdout",
     "output_type": "stream",
     "text": [
      "Reading: /collobrative_transport/data/perf_25_zigzac_0.45_5_0_16.csv\n",
      "Reading: /collobrative_transport/data/effec_25_zigzac_0.45_5_0_16.csv\n",
      "Reading: /collobrative_transport/data/pos_25_zigzac_0.45_5_0_16.csv\n"
     ]
    },
    {
     "data": {
      "text/plain": [
       "[0.13448278886162304,\n",
       " 0.12018882442623349,\n",
       " 0.21995930737297756,\n",
       " 0.2171557475557351,\n",
       " 0.2644315788959649,\n",
       " 0.35044106794153,\n",
       " 0.3308097269201732,\n",
       " 0.3824621990471744,\n",
       " 0.38251885676919173,\n",
       " 0.45018849230072466]"
      ]
     },
     "execution_count": 63,
     "metadata": {},
     "output_type": "execute_result"
    }
   ],
   "source": [
    "compute_center_error('25_zigzac_0.45_5_0_16',25)"
   ]
  },
  {
   "cell_type": "code",
   "execution_count": null,
   "metadata": {},
   "outputs": [],
   "source": []
  }
 ],
 "metadata": {
  "kernelspec": {
   "display_name": "Python 2",
   "language": "python",
   "name": "python2"
  },
  "language_info": {
   "codemirror_mode": {
    "name": "ipython",
    "version": 2
   },
   "file_extension": ".py",
   "mimetype": "text/x-python",
   "name": "python",
   "nbconvert_exporter": "python",
   "pygments_lexer": "ipython2",
   "version": "2.7.12"
  }
 },
 "nbformat": 4,
 "nbformat_minor": 2
}
